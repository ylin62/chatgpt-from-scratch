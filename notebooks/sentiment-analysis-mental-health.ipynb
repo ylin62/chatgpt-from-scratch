{
 "cells": [
  {
   "cell_type": "code",
   "execution_count": 1,
   "id": "ea28097d-de45-4854-a507-58e3633d252f",
   "metadata": {},
   "outputs": [],
   "source": [
    "%matplotlib widget\n",
    "import pandas as pd\n",
    "import torch\n",
    "from torch import nn\n",
    "import torch.nn.functional as F\n",
    "import os, glob\n",
    "\n",
    "device = \"cuda\" if torch.cuda.is_available() else \"cpu\""
   ]
  },
  {
   "cell_type": "code",
   "execution_count": 2,
   "id": "9444205e-c739-4faa-901c-665492e70119",
   "metadata": {},
   "outputs": [],
   "source": [
    "from sklearn.model_selection import train_test_split\n",
    "from torch.utils.data import DataLoader, Dataset\n",
    "from torch.nn.utils.rnn import pad_sequence"
   ]
  },
  {
   "cell_type": "code",
   "execution_count": 30,
   "id": "f43e04f5-d911-487d-9cb0-fccaddef7df2",
   "metadata": {},
   "outputs": [
    {
     "data": {
      "text/plain": [
       "24"
      ]
     },
     "execution_count": 30,
     "metadata": {},
     "output_type": "execute_result"
    }
   ],
   "source": [
    "torch.randint(low=0, high=100, size=(1, )).item()"
   ]
  },
  {
   "cell_type": "code",
   "execution_count": 3,
   "id": "a116a429-e564-4ecf-8fc9-c77fa4ee24bd",
   "metadata": {},
   "outputs": [],
   "source": [
    "file = glob.glob(os.path.expanduser(\"~/Documents/projects/chatgpt-from-scratch/data/*.csv\"))[0]\n",
    "df = pd.read_csv(file, index_col=0).dropna(how=\"any\", axis=0)"
   ]
  },
  {
   "cell_type": "code",
   "execution_count": 35,
   "id": "8eca88ca-36b7-48b5-a1e4-e975055ac36e",
   "metadata": {},
   "outputs": [],
   "source": [
    "temp = set()\n",
    "for item in df[\"statement\"].apply(set):\n",
    "    temp = temp | item"
   ]
  },
  {
   "cell_type": "code",
   "execution_count": 60,
   "id": "bbcdfe97-8d21-48e6-bca3-6729ffbf6780",
   "metadata": {},
   "outputs": [],
   "source": [
    "encoder = {s:i for i, s in enumerate(temp)}"
   ]
  },
  {
   "cell_type": "code",
   "execution_count": 4,
   "id": "31687bc6-e1ee-4d96-8d7f-e19d18259d33",
   "metadata": {},
   "outputs": [],
   "source": [
    "statements = df[\"statement\"].values\n",
    "labels = df[\"status\"].values\n",
    "\n",
    "from sklearn.preprocessing import LabelEncoder\n",
    "\n",
    "label_encoder = LabelEncoder()\n",
    "encoded_labels = label_encoder.fit_transform(labels)"
   ]
  },
  {
   "cell_type": "code",
   "execution_count": 10,
   "id": "55011b94-e438-487e-86d0-24eb80864b92",
   "metadata": {},
   "outputs": [],
   "source": [
    "train_statements, val_statements, train_labels, val_labels = train_test_split(statements, encoded_labels, test_size=0.2, random_state=42)"
   ]
  },
  {
   "cell_type": "code",
   "execution_count": 7,
   "id": "115ab97a-5418-4820-9fad-08f3514dc539",
   "metadata": {},
   "outputs": [],
   "source": [
    "class SentimentDataset(Dataset):\n",
    "    def __init__(self, statements, labels, tokenizer, max_length=128):\n",
    "        self.statements = statements\n",
    "        self.labels = labels\n",
    "        self.tokenizer = tokenizer\n",
    "        self.max_length = max_length\n",
    "\n",
    "    def __len__(self):\n",
    "        return len(self.statements)\n",
    "\n",
    "    def __getitem__(self, idx):\n",
    "        statement = self.statements[idx]\n",
    "        label = self.labels[idx]\n",
    "        tokens = self.tokenizer(statement)\n",
    "        tokens = tokens[:self.max_length]\n",
    "        tokens = torch.tensor(tokens)\n",
    "\n",
    "        return tokens, torch.tensor(label)\n",
    "\n",
    "def collate_fn(batch):\n",
    "    tokens, labels = zip(*batch)\n",
    "    tokens_padded = pad_sequence(tokens, batch_first=True, padding_value=0)\n",
    "    labels = torch.stack(labels)\n",
    "    return tokens_padded, labels"
   ]
  },
  {
   "cell_type": "code",
   "execution_count": 8,
   "id": "0d2ec4d7-fa7a-41cb-a3fc-88ce7c1771f9",
   "metadata": {},
   "outputs": [],
   "source": [
    "import math\n",
    "\n",
    "class PositionalEncoding(nn.Module):\n",
    "    def __init__(self, d_model, max_len=5000):\n",
    "        super(PositionalEncoding, self).__init__()\n",
    "        pe = torch.zeros(max_len, d_model)\n",
    "        position = torch.arange(0, max_len, dtype=torch.float).unsqueeze(1)\n",
    "        div_term = torch.exp(torch.arange(0, d_model, 2).float() * (-math.log(10000.0) / d_model))\n",
    "        pe[:, 0::2] = torch.sin(position * div_term)\n",
    "        pe[:, 1::2] = torch.cos(position * div_term)\n",
    "        pe = pe.unsqueeze(0).transpose(0, 1)\n",
    "        self.register_buffer('pe', pe)\n",
    "\n",
    "    def forward(self, x):\n",
    "        x = x + self.pe[:x.size(0), :]\n",
    "        return x\n",
    "\n",
    "class CustomTransformerModel(nn.Module):\n",
    "    def __init__(self, vocab_size, d_model, nhead, num_encoder_layers, num_classes):\n",
    "        super(CustomTransformerModel, self).__init__()\n",
    "        self.embedding = nn.Embedding(vocab_size, d_model)\n",
    "        self.pos_encoder = PositionalEncoding(d_model)\n",
    "        encoder_layers = nn.TransformerEncoderLayer(d_model, nhead)\n",
    "        self.transformer_encoder = nn.TransformerEncoder(encoder_layers, num_encoder_layers)\n",
    "        self.fc = nn.Linear(d_model, num_classes)\n",
    "    \n",
    "    def forward(self, src):\n",
    "        src = self.embedding(src) * math.sqrt(self.embedding.embedding_dim)\n",
    "        src = self.pos_encoder(src)\n",
    "        output = self.transformer_encoder(src)\n",
    "        output = output.mean(dim=1)  # Global average pooling\n",
    "        output = self.fc(output)\n",
    "        return output\n"
   ]
  },
  {
   "cell_type": "code",
   "execution_count": 63,
   "id": "eb3c9066-01bb-47d2-973e-6f0bb1938b83",
   "metadata": {},
   "outputs": [],
   "source": [
    "# Assume you have a tokenizer function\n",
    "def simple_tokenizer(text):\n",
    "    return [encoder[c] for c in text]  # Simple example: convert each character to its ASCII value\n",
    "\n",
    "# Create datasets\n",
    "train_dataset = SentimentDataset(train_statements, train_labels, tokenizer=simple_tokenizer)\n",
    "val_dataset = SentimentDataset(val_statements, val_labels, tokenizer=simple_tokenizer)\n",
    "\n",
    "# Data loaders\n",
    "train_loader = DataLoader(train_dataset, batch_size=32, collate_fn=collate_fn, shuffle=True)\n",
    "val_loader = DataLoader(val_dataset, batch_size=32, collate_fn=collate_fn)"
   ]
  },
  {
   "cell_type": "code",
   "execution_count": 64,
   "id": "f69a64d9-80b1-46f8-a641-05848d83dae4",
   "metadata": {},
   "outputs": [
    {
     "name": "stdout",
     "output_type": "stream",
     "text": [
      "torch.Size([32, 128])\n",
      "tensor([[148, 378, 380,  ...,   0,   0,   0],\n",
      "        [357, 276, 389,  ..., 196, 389, 148],\n",
      "        [389, 231, 262,  ...,   0,   0,   0],\n",
      "        ...,\n",
      "        [322, 378, 215,  ...,   0,   0,   0],\n",
      "        [357, 389, 322,  ..., 389,  21, 294],\n",
      "        [150, 294, 389,  ..., 389,  41, 380]])\n",
      "torch.Size([32])\n",
      "tensor([2, 5, 6, 6, 6, 4, 5, 5, 3, 6, 2, 3, 6, 2, 2, 2, 2, 3, 6, 2, 2, 0, 0, 6,\n",
      "        2, 2, 2, 0, 2, 3, 6, 2])\n"
     ]
    }
   ],
   "source": [
    "for inputs, labels in train_loader:\n",
    "    print(inputs.shape)\n",
    "    print(inputs)\n",
    "    print(labels.shape)\n",
    "    print(labels)\n",
    "    break"
   ]
  },
  {
   "cell_type": "code",
   "execution_count": 65,
   "id": "654e2da8-db6d-4b4d-9fb8-64c22c0f182a",
   "metadata": {},
   "outputs": [
    {
     "data": {
      "text/plain": [
       "torch.return_types.max(\n",
       "values=tensor([389, 389, 389, 389, 389, 389, 389, 389, 389, 389, 389, 389, 389, 389,\n",
       "        389, 389, 389, 389, 389, 389, 389, 389, 389, 389, 389, 389, 389, 389,\n",
       "        389, 389, 389, 389, 389, 389, 389, 389, 389, 389, 389, 389, 389, 389,\n",
       "        389, 389, 389, 389, 389, 389, 389, 389, 389, 389, 389, 389, 389, 389,\n",
       "        389, 389, 389, 389, 389, 389, 389, 389, 389, 389, 389, 389, 389, 389,\n",
       "        389, 389, 389, 389, 389, 389, 389, 389, 389, 389, 389, 389, 389, 389,\n",
       "        389, 389, 389, 389, 389, 389, 389, 389, 389, 389, 389, 389, 389, 389,\n",
       "        389, 389, 389, 389, 389, 389, 389, 389, 389, 389, 389, 389, 389, 389,\n",
       "        389, 389, 389, 389, 389, 389, 389, 389, 389, 389, 389, 389, 389, 389,\n",
       "        389, 389]),\n",
       "indices=tensor([ 2,  3,  1,  8,  0,  1,  5,  0, 12, 10,  5,  0,  1,  3,  1,  4,  0,  9,\n",
       "         4,  0,  9, 10,  7,  0,  4,  0, 15,  1, 18,  6,  4, 15,  0,  5,  1,  3,\n",
       "         1,  0,  9,  3,  0,  9, 19,  7,  3,  0,  1,  4,  7,  3,  0, 28,  3,  0,\n",
       "         1,  9, 13,  7,  4,  9,  3,  1,  4,  1,  0,  6,  5,  1,  4,  3,  7,  5,\n",
       "         7, 16,  3,  0,  1, 15,  4,  5,  4,  0, 14,  0, 10,  3,  0,  7,  1,  4,\n",
       "         0,  3,  1,  5,  9,  1,  3,  0, 10,  4,  5, 10,  0,  1, 10,  0,  1,  4,\n",
       "         0,  3,  1,  5, 28,  3,  0,  4,  6,  3, 23,  7,  4,  1, 12,  4,  3,  9,\n",
       "         1, 18]))"
      ]
     },
     "execution_count": 65,
     "metadata": {},
     "output_type": "execute_result"
    }
   ],
   "source": [
    "inputs.max(axis=0)"
   ]
  },
  {
   "cell_type": "code",
   "execution_count": 67,
   "id": "5c287a03-5191-424b-94c3-e74207095099",
   "metadata": {},
   "outputs": [
    {
     "data": {
      "text/plain": [
       "tensor([[[ 1.8472, -0.4284,  0.3114,  ...,  0.1930, -1.3374, -0.6331],\n",
       "         [-1.1831,  0.3195, -2.4341,  ...,  0.0198, -1.4056,  1.3602],\n",
       "         [ 0.0649,  0.1676,  0.5911,  ...,  0.0372, -0.4619,  0.1664],\n",
       "         ...,\n",
       "         [ 0.5315, -2.1471,  0.3773,  ..., -0.7073, -0.5457, -0.4716],\n",
       "         [ 0.5315, -2.1471,  0.3773,  ..., -0.7073, -0.5457, -0.4716],\n",
       "         [ 0.5315, -2.1471,  0.3773,  ..., -0.7073, -0.5457, -0.4716]],\n",
       "\n",
       "        [[-1.5461,  0.8485, -0.5387,  ...,  0.2516,  0.4907,  0.2928],\n",
       "         [-0.7916, -0.0676, -0.4590,  ..., -0.0384,  0.2466,  0.8198],\n",
       "         [-1.6470,  0.0416, -0.8102,  ...,  0.2648,  0.1906, -2.0705],\n",
       "         ...,\n",
       "         [-1.0920, -1.7428, -0.3774,  ...,  0.2005,  0.7057,  1.2666],\n",
       "         [-1.6470,  0.0416, -0.8102,  ...,  0.2648,  0.1906, -2.0705],\n",
       "         [ 1.8472, -0.4284,  0.3114,  ...,  0.1930, -1.3374, -0.6331]],\n",
       "\n",
       "        [[-1.6470,  0.0416, -0.8102,  ...,  0.2648,  0.1906, -2.0705],\n",
       "         [ 0.4037, -0.2812,  0.2534,  ...,  0.0466, -0.2226,  0.1690],\n",
       "         [-0.3836,  0.1352,  0.9524,  ..., -0.2210, -1.2380,  0.0424],\n",
       "         ...,\n",
       "         [ 0.5315, -2.1471,  0.3773,  ..., -0.7073, -0.5457, -0.4716],\n",
       "         [ 0.5315, -2.1471,  0.3773,  ..., -0.7073, -0.5457, -0.4716],\n",
       "         [ 0.5315, -2.1471,  0.3773,  ..., -0.7073, -0.5457, -0.4716]],\n",
       "\n",
       "        ...,\n",
       "\n",
       "        [[ 0.3575,  2.2156,  0.2221,  ...,  0.5223,  1.5154,  1.2978],\n",
       "         [-1.1831,  0.3195, -2.4341,  ...,  0.0198, -1.4056,  1.3602],\n",
       "         [ 0.8424,  2.5971, -0.4591,  ..., -0.6616,  0.1639, -0.9736],\n",
       "         ...,\n",
       "         [ 0.5315, -2.1471,  0.3773,  ..., -0.7073, -0.5457, -0.4716],\n",
       "         [ 0.5315, -2.1471,  0.3773,  ..., -0.7073, -0.5457, -0.4716],\n",
       "         [ 0.5315, -2.1471,  0.3773,  ..., -0.7073, -0.5457, -0.4716]],\n",
       "\n",
       "        [[-1.5461,  0.8485, -0.5387,  ...,  0.2516,  0.4907,  0.2928],\n",
       "         [-1.6470,  0.0416, -0.8102,  ...,  0.2648,  0.1906, -2.0705],\n",
       "         [ 0.3575,  2.2156,  0.2221,  ...,  0.5223,  1.5154,  1.2978],\n",
       "         ...,\n",
       "         [-1.6470,  0.0416, -0.8102,  ...,  0.2648,  0.1906, -2.0705],\n",
       "         [-0.4232,  0.3038,  1.5961,  ..., -0.6319,  1.3912, -1.0886],\n",
       "         [ 0.2699,  2.2875,  0.9674,  ...,  1.4820, -0.4030, -0.4230]],\n",
       "\n",
       "        [[ 2.2298,  1.4505, -1.3903,  ..., -0.8218, -0.3003, -0.1822],\n",
       "         [ 0.2699,  2.2875,  0.9674,  ...,  1.4820, -0.4030, -0.4230],\n",
       "         [-1.6470,  0.0416, -0.8102,  ...,  0.2648,  0.1906, -2.0705],\n",
       "         ...,\n",
       "         [-1.6470,  0.0416, -0.8102,  ...,  0.2648,  0.1906, -2.0705],\n",
       "         [ 1.5630, -0.2638, -0.3763,  ...,  1.1968,  1.4920,  0.7833],\n",
       "         [ 0.0649,  0.1676,  0.5911,  ...,  0.0372, -0.4619,  0.1664]]],\n",
       "       grad_fn=<EmbeddingBackward0>)"
      ]
     },
     "execution_count": 67,
     "metadata": {},
     "output_type": "execute_result"
    }
   ],
   "source": [
    "nn.Embedding(394, 512)(inputs)"
   ]
  },
  {
   "cell_type": "code",
   "execution_count": null,
   "id": "260dca62-0f4c-4e45-bb10-cee2e73d57b3",
   "metadata": {},
   "outputs": [],
   "source": [
    "# Instantiate the model\n",
    "vocab_size = 32759  # Based on simple_tokenizer, you may need to adjust this based on your tokenizer\n",
    "model = CustomTransformerModel(vocab_size=vocab_size, d_model=512, nhead=8, num_encoder_layers=6, num_classes=len(label_encoder.classes_)).to(device)\n",
    "\n",
    "# Define loss function and optimizer\n",
    "criterion = nn.CrossEntropyLoss()\n",
    "optimizer = torch.optim.AdamW(model.parameters(), lr=0.001)\n",
    "\n",
    "# Training loop\n",
    "num_epochs = 10\n",
    "model.train()\n",
    "for epoch in range(num_epochs):\n",
    "    for inputs, labels in train_loader:\n",
    "        optimizer.zero_grad()\n",
    "        outputs = model(inputs.to(device))\n",
    "        loss = criterion(outputs, labels.to(device))\n",
    "        loss.backward()\n",
    "        optimizer.step()\n",
    "    \n",
    "    # Optional: Evaluate on the validation set after each epoch\n",
    "    model.eval()\n",
    "    val_loss = 0\n",
    "    correct = 0\n",
    "    total = 0\n",
    "    with torch.no_grad():\n",
    "        for inputs, labels in val_loader:\n",
    "            outputs = model(inputs.to(device))\n",
    "            loss = criterion(outputs, labels.to(device))\n",
    "            val_loss += loss.item()\n",
    "            _, predicted = torch.max(outputs.data, 1)\n",
    "            total += labels.size(0)\n",
    "            correct += (predicted == labels).sum().item()\n",
    "    \n",
    "    print(f'Epoch {epoch+1}, Loss: {val_loss/len(val_loader)}, Accuracy: {100 * correct / total}%')\n",
    "    model.train()"
   ]
  }
 ],
 "metadata": {
  "kernelspec": {
   "display_name": "llm",
   "language": "python",
   "name": "llm"
  },
  "language_info": {
   "codemirror_mode": {
    "name": "ipython",
    "version": 3
   },
   "file_extension": ".py",
   "mimetype": "text/x-python",
   "name": "python",
   "nbconvert_exporter": "python",
   "pygments_lexer": "ipython3",
   "version": "3.12.0"
  }
 },
 "nbformat": 4,
 "nbformat_minor": 5
}
