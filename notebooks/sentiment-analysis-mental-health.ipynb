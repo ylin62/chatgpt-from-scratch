{
 "cells": [
  {
   "cell_type": "code",
   "execution_count": 1,
   "id": "ea28097d-de45-4854-a507-58e3633d252f",
   "metadata": {},
   "outputs": [],
   "source": [
    "%matplotlib widget\n",
    "import pandas as pd\n",
    "import torch\n",
    "from torch import nn\n",
    "import torch.nn.functional as F\n",
    "import os, glob\n",
    "\n",
    "device = \"cuda\" if torch.cuda.is_available() else \"cpu\""
   ]
  },
  {
   "cell_type": "code",
   "execution_count": 2,
   "id": "9444205e-c739-4faa-901c-665492e70119",
   "metadata": {},
   "outputs": [],
   "source": [
    "from sklearn.model_selection import train_test_split\n",
    "from torch.utils.data import DataLoader, Dataset\n",
    "from torch.nn.utils.rnn import pad_sequence"
   ]
  },
  {
   "cell_type": "code",
   "execution_count": 3,
   "id": "a116a429-e564-4ecf-8fc9-c77fa4ee24bd",
   "metadata": {},
   "outputs": [],
   "source": [
    "file = glob.glob(os.path.expanduser(\"~/Documents/projects/chatgpt-from-scratch/data/*.csv\"))[0]\n",
    "df = pd.read_csv(file, index_col=0)"
   ]
  },
  {
   "cell_type": "code",
   "execution_count": 4,
   "id": "099a5f57-af3d-4978-813d-724954a6b865",
   "metadata": {},
   "outputs": [
    {
     "data": {
      "text/plain": [
       "array(['Anxiety', 'Normal', 'Depression', 'Suicidal', 'Stress', 'Bipolar',\n",
       "       'Personality disorder'], dtype=object)"
      ]
     },
     "execution_count": 4,
     "metadata": {},
     "output_type": "execute_result"
    }
   ],
   "source": [
    "df[\"status\"].unique()"
   ]
  },
  {
   "cell_type": "code",
   "execution_count": 52,
   "id": "f006bfe2-befe-44bd-81a1-34847b0ff0a2",
   "metadata": {},
   "outputs": [
    {
     "data": {
      "text/plain": [
       "39827     6349\n",
       "10347     6358\n",
       "48657     6366\n",
       "17977     6419\n",
       "38280     6421\n",
       "         ...  \n",
       "9416     25302\n",
       "46660    26163\n",
       "10834    27390\n",
       "51396    27588\n",
       "13293    32759\n",
       "Name: statement, Length: 100, dtype: int64"
      ]
     },
     "execution_count": 52,
     "metadata": {},
     "output_type": "execute_result"
    }
   ],
   "source": [
    "df[\"statement\"].dropna().apply(lambda x: len(x)).sort_values().tail(100)"
   ]
  },
  {
   "cell_type": "code",
   "execution_count": 5,
   "id": "31687bc6-e1ee-4d96-8d7f-e19d18259d33",
   "metadata": {},
   "outputs": [],
   "source": [
    "statements = df[\"statement\"].values\n",
    "labels = df[\"status\"].values\n",
    "\n",
    "from sklearn.preprocessing import LabelEncoder\n",
    "\n",
    "label_encoder = LabelEncoder()\n",
    "encoded_labels = label_encoder.fit_transform(labels)"
   ]
  },
  {
   "cell_type": "code",
   "execution_count": 54,
   "id": "55011b94-e438-487e-86d0-24eb80864b92",
   "metadata": {},
   "outputs": [],
   "source": [
    "train_statements, val_statements, train_labels, val_labels = train_test_split(statements, encoded_labels, test_size=0.2, random_state=42)"
   ]
  },
  {
   "cell_type": "code",
   "execution_count": 7,
   "id": "115ab97a-5418-4820-9fad-08f3514dc539",
   "metadata": {},
   "outputs": [],
   "source": [
    "class SentimentDataset(Dataset):\n",
    "    def __init__(self, statements, labels, tokenizer, max_length=128):\n",
    "        self.statements = statements\n",
    "        self.labels = labels\n",
    "        self.tokenizer = tokenizer\n",
    "        self.max_length = max_length\n",
    "\n",
    "    def __len__(self):\n",
    "        return len(self.statements)\n",
    "\n",
    "    def __getitem__(self, idx):\n",
    "        statement = self.statements[idx]\n",
    "        label = self.labels[idx]\n",
    "        tokens = self.tokenizer(statement)\n",
    "        tokens = tokens[:self.max_length]\n",
    "        tokens = torch.tensor(tokens)\n",
    "\n",
    "        return tokens, torch.tensor(label)\n",
    "\n",
    "def collate_fn(batch):\n",
    "    tokens, labels = zip(*batch)\n",
    "    tokens_padded = pad_sequence(tokens, batch_first=True, padding_value=0)\n",
    "    labels = torch.stack(labels)\n",
    "    return tokens_padded, labels"
   ]
  },
  {
   "cell_type": "code",
   "execution_count": 8,
   "id": "0d2ec4d7-fa7a-41cb-a3fc-88ce7c1771f9",
   "metadata": {},
   "outputs": [],
   "source": [
    "import math\n",
    "\n",
    "class PositionalEncoding(nn.Module):\n",
    "    def __init__(self, d_model, max_len=5000):\n",
    "        super(PositionalEncoding, self).__init__()\n",
    "        pe = torch.zeros(max_len, d_model)\n",
    "        position = torch.arange(0, max_len, dtype=torch.float).unsqueeze(1)\n",
    "        div_term = torch.exp(torch.arange(0, d_model, 2).float() * (-math.log(10000.0) / d_model))\n",
    "        pe[:, 0::2] = torch.sin(position * div_term)\n",
    "        pe[:, 1::2] = torch.cos(position * div_term)\n",
    "        pe = pe.unsqueeze(0).transpose(0, 1)\n",
    "        self.register_buffer('pe', pe)\n",
    "\n",
    "    def forward(self, x):\n",
    "        x = x + self.pe[:x.size(0), :]\n",
    "        return x\n",
    "\n",
    "class CustomTransformerModel(nn.Module):\n",
    "    def __init__(self, vocab_size, d_model, nhead, num_encoder_layers, num_classes):\n",
    "        super(CustomTransformerModel, self).__init__()\n",
    "        self.embedding = nn.Embedding(vocab_size, d_model)\n",
    "        self.pos_encoder = PositionalEncoding(d_model)\n",
    "        encoder_layers = nn.TransformerEncoderLayer(d_model, nhead)\n",
    "        self.transformer_encoder = nn.TransformerEncoder(encoder_layers, num_encoder_layers)\n",
    "        self.fc = nn.Linear(d_model, num_classes)\n",
    "    \n",
    "    def forward(self, src):\n",
    "        src = self.embedding(src) * math.sqrt(self.embedding.embedding_dim)\n",
    "        src = self.pos_encoder(src)\n",
    "        output = self.transformer_encoder(src)\n",
    "        output = output.mean(dim=1)  # Global average pooling\n",
    "        output = self.fc(output)\n",
    "        return output\n"
   ]
  },
  {
   "cell_type": "code",
   "execution_count": null,
   "id": "718fbb5b-cf12-400b-9509-3f914ef531d7",
   "metadata": {},
   "outputs": [],
   "source": [
    "# Assume you have a tokenizer function\n",
    "def simple_tokenizer(text):\n",
    "    return [ord(c) for c in text]  # Simple example: convert each character to its ASCII value\n",
    "\n",
    "# Create datasets\n",
    "train_dataset = SentimentDataset(train_statements, train_labels, tokenizer=simple_tokenizer)\n",
    "val_dataset = SentimentDataset(val_statements, val_labels, tokenizer=simple_tokenizer)\n",
    "\n",
    "# Data loaders\n",
    "train_loader = DataLoader(train_dataset, batch_size=32, collate_fn=collate_fn, shuffle=True)\n",
    "val_loader = DataLoader(val_dataset, batch_size=32, collate_fn=collate_fn)\n",
    "\n",
    "# Instantiate the model\n",
    "vocab_size = 128  # Based on simple_tokenizer, you may need to adjust this based on your tokenizer\n",
    "model = CustomTransformerModel(vocab_size=vocab_size, d_model=512, nhead=8, num_encoder_layers=6, num_classes=len(label_encoder.classes_))\n",
    "\n",
    "# Define loss function and optimizer\n",
    "criterion = nn.CrossEntropyLoss()\n",
    "optimizer = torch.optim.Adam(model.parameters(), lr=0.001)\n",
    "\n",
    "# Training loop\n",
    "num_epochs = 10\n",
    "model.train()\n",
    "for epoch in range(num_epochs):\n",
    "    for inputs, labels in train_loader:\n",
    "        optimizer.zero_grad()\n",
    "        outputs = model(inputs)\n",
    "        loss = criterion(outputs, labels)\n",
    "        loss.backward()\n",
    "        optimizer.step()\n",
    "    \n",
    "    # Optional: Evaluate on the validation set after each epoch\n",
    "    model.eval()\n",
    "    val_loss = 0\n",
    "    correct = 0\n",
    "    total = 0\n",
    "    with torch.no_grad():\n",
    "        for inputs, labels in val_loader:\n",
    "            outputs = model(inputs)\n",
    "            loss = criterion(outputs, labels)\n",
    "            val_loss += loss.item()\n",
    "            _, predicted = torch.max(outputs.data, 1)\n",
    "            total += labels.size(0)\n",
    "            correct += (predicted == labels).sum().item()\n",
    "    \n",
    "    print(f'Epoch {epoch+1}, Loss: {val_loss/len(val_loader)}, Accuracy: {100 * correct / total}%')\n",
    "    model.train()\n"
   ]
  }
 ],
 "metadata": {
  "kernelspec": {
   "display_name": "Python 3 (ipykernel)",
   "language": "python",
   "name": "python3"
  },
  "language_info": {
   "codemirror_mode": {
    "name": "ipython",
    "version": 3
   },
   "file_extension": ".py",
   "mimetype": "text/x-python",
   "name": "python",
   "nbconvert_exporter": "python",
   "pygments_lexer": "ipython3",
   "version": "3.12.5"
  }
 },
 "nbformat": 4,
 "nbformat_minor": 5
}
